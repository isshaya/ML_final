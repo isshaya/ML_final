{
  "cells": [
    {
      "cell_type": "markdown",
      "metadata": {
        "id": "uMVgsr1x3Yjn"
      },
      "source": [
        "## Data"
      ]
    },
    {
      "cell_type": "code",
      "execution_count": 1,
      "metadata": {
        "colab": {
          "base_uri": "https://localhost:8080/",
          "height": 362
        },
        "id": "fbebffUO1OvP",
        "outputId": "6e9d2654-91c9-4364-919d-2925d1bb78a0"
      },
      "outputs": [
        {
          "name": "stdout",
          "output_type": "stream",
          "text": [
            "Dataset shape after cleaning: (2599, 42)\n"
          ]
        },
        {
          "data": {
            "text/html": [
              "<div>\n",
              "<style scoped>\n",
              "    .dataframe tbody tr th:only-of-type {\n",
              "        vertical-align: middle;\n",
              "    }\n",
              "\n",
              "    .dataframe tbody tr th {\n",
              "        vertical-align: top;\n",
              "    }\n",
              "\n",
              "    .dataframe thead th {\n",
              "        text-align: right;\n",
              "    }\n",
              "</style>\n",
              "<table border=\"1\" class=\"dataframe\">\n",
              "  <thead>\n",
              "    <tr style=\"text-align: right;\">\n",
              "      <th></th>\n",
              "      <th>place_id</th>\n",
              "      <th>place_name</th>\n",
              "      <th>review_id</th>\n",
              "      <th>review_link</th>\n",
              "      <th>name_x</th>\n",
              "      <th>reviewer_id</th>\n",
              "      <th>reviewer_profile</th>\n",
              "      <th>rating_x</th>\n",
              "      <th>review_text</th>\n",
              "      <th>published_at</th>\n",
              "      <th>...</th>\n",
              "      <th>featured_image</th>\n",
              "      <th>main_category</th>\n",
              "      <th>categories</th>\n",
              "      <th>workday_timing</th>\n",
              "      <th>is_temporarily_closed</th>\n",
              "      <th>closed_on</th>\n",
              "      <th>address</th>\n",
              "      <th>review_keywords</th>\n",
              "      <th>link</th>\n",
              "      <th>query</th>\n",
              "    </tr>\n",
              "  </thead>\n",
              "  <tbody>\n",
              "    <tr>\n",
              "      <th>0</th>\n",
              "      <td>ChIJIRiJaRRawokR2KyQ984qa-o</td>\n",
              "      <td>The Dead Rabbit</td>\n",
              "      <td>ChdDSUhNMG9nS0VJQ0FnTURvdzkyQ3dBRRAB</td>\n",
              "      <td>https://www.google.com/maps/reviews/data=!4m8!...</td>\n",
              "      <td>Itchy Feet Foodies</td>\n",
              "      <td>115364016342485480165</td>\n",
              "      <td>https://www.google.com/maps/contrib/1153640163...</td>\n",
              "      <td>5</td>\n",
              "      <td>Nice bar with great smash burgers and a nice p...</td>\n",
              "      <td>2 hours ago</td>\n",
              "      <td>...</td>\n",
              "      <td>https://lh3.ggpht.com/p/AF1QipM4aUcpwv1i-uOUYl...</td>\n",
              "      <td>Bar</td>\n",
              "      <td>Bar, Brunch restaurant, Cocktail bar, Event ve...</td>\n",
              "      <td>11 AM-2 AM</td>\n",
              "      <td>NaN</td>\n",
              "      <td>Open All Days</td>\n",
              "      <td>30 Water St, New York, NY 10004</td>\n",
              "      <td>irish coffee, scotch egg, irish whiskey, sawdu...</td>\n",
              "      <td>https://www.google.com/maps/place/The+Dead+Rab...</td>\n",
              "      <td>bars in manhattan</td>\n",
              "    </tr>\n",
              "    <tr>\n",
              "      <th>1</th>\n",
              "      <td>ChIJIRiJaRRawokR2KyQ984qa-o</td>\n",
              "      <td>The Dead Rabbit</td>\n",
              "      <td>ChdDSUhNMG9nS0VJQ0FnTURvcGVuQTVRRRAB</td>\n",
              "      <td>https://www.google.com/maps/reviews/data=!4m8!...</td>\n",
              "      <td>David Bentley</td>\n",
              "      <td>101957826250017754225</td>\n",
              "      <td>https://www.google.com/maps/contrib/1019578262...</td>\n",
              "      <td>5</td>\n",
              "      <td>Finally made there 2 weeks ago. Staff are amaz...</td>\n",
              "      <td>a day ago</td>\n",
              "      <td>...</td>\n",
              "      <td>https://lh3.ggpht.com/p/AF1QipM4aUcpwv1i-uOUYl...</td>\n",
              "      <td>Bar</td>\n",
              "      <td>Bar, Brunch restaurant, Cocktail bar, Event ve...</td>\n",
              "      <td>11 AM-2 AM</td>\n",
              "      <td>NaN</td>\n",
              "      <td>Open All Days</td>\n",
              "      <td>30 Water St, New York, NY 10004</td>\n",
              "      <td>irish coffee, scotch egg, irish whiskey, sawdu...</td>\n",
              "      <td>https://www.google.com/maps/place/The+Dead+Rab...</td>\n",
              "      <td>bars in manhattan</td>\n",
              "    </tr>\n",
              "    <tr>\n",
              "      <th>2</th>\n",
              "      <td>ChIJIRiJaRRawokR2KyQ984qa-o</td>\n",
              "      <td>The Dead Rabbit</td>\n",
              "      <td>ChZDSUhNMG9nS0VJQ0FnTURva2FHbUVBEAE</td>\n",
              "      <td>https://www.google.com/maps/reviews/data=!4m8!...</td>\n",
              "      <td>mike \"id\" mm</td>\n",
              "      <td>111715638420955619035</td>\n",
              "      <td>https://www.google.com/maps/contrib/1117156384...</td>\n",
              "      <td>5</td>\n",
              "      <td>Amazing Bar to travel in the mind into the his...</td>\n",
              "      <td>2 days ago</td>\n",
              "      <td>...</td>\n",
              "      <td>https://lh3.ggpht.com/p/AF1QipM4aUcpwv1i-uOUYl...</td>\n",
              "      <td>Bar</td>\n",
              "      <td>Bar, Brunch restaurant, Cocktail bar, Event ve...</td>\n",
              "      <td>11 AM-2 AM</td>\n",
              "      <td>NaN</td>\n",
              "      <td>Open All Days</td>\n",
              "      <td>30 Water St, New York, NY 10004</td>\n",
              "      <td>irish coffee, scotch egg, irish whiskey, sawdu...</td>\n",
              "      <td>https://www.google.com/maps/place/The+Dead+Rab...</td>\n",
              "      <td>bars in manhattan</td>\n",
              "    </tr>\n",
              "    <tr>\n",
              "      <th>3</th>\n",
              "      <td>ChIJIRiJaRRawokR2KyQ984qa-o</td>\n",
              "      <td>The Dead Rabbit</td>\n",
              "      <td>ChZDSUhNMG9nS0VJQ0FnTURvNGR5LU5REAE</td>\n",
              "      <td>https://www.google.com/maps/reviews/data=!4m8!...</td>\n",
              "      <td>Jake Frith</td>\n",
              "      <td>114589423846334117507</td>\n",
              "      <td>https://www.google.com/maps/contrib/1145894238...</td>\n",
              "      <td>5</td>\n",
              "      <td>Great little bar that serves a great Guinness....</td>\n",
              "      <td>2 days ago</td>\n",
              "      <td>...</td>\n",
              "      <td>https://lh3.ggpht.com/p/AF1QipM4aUcpwv1i-uOUYl...</td>\n",
              "      <td>Bar</td>\n",
              "      <td>Bar, Brunch restaurant, Cocktail bar, Event ve...</td>\n",
              "      <td>11 AM-2 AM</td>\n",
              "      <td>NaN</td>\n",
              "      <td>Open All Days</td>\n",
              "      <td>30 Water St, New York, NY 10004</td>\n",
              "      <td>irish coffee, scotch egg, irish whiskey, sawdu...</td>\n",
              "      <td>https://www.google.com/maps/place/The+Dead+Rab...</td>\n",
              "      <td>bars in manhattan</td>\n",
              "    </tr>\n",
              "    <tr>\n",
              "      <th>4</th>\n",
              "      <td>ChIJIRiJaRRawokR2KyQ984qa-o</td>\n",
              "      <td>The Dead Rabbit</td>\n",
              "      <td>ChdDSUhNMG9nS0VJQ0FnTURvN296eHRnRRAB</td>\n",
              "      <td>https://www.google.com/maps/reviews/data=!4m8!...</td>\n",
              "      <td>handofwhat</td>\n",
              "      <td>102119327733590225752</td>\n",
              "      <td>https://www.google.com/maps/contrib/1021193277...</td>\n",
              "      <td>2</td>\n",
              "      <td>they have a beautiful illustrated cocktail boo...</td>\n",
              "      <td>3 days ago</td>\n",
              "      <td>...</td>\n",
              "      <td>https://lh3.ggpht.com/p/AF1QipM4aUcpwv1i-uOUYl...</td>\n",
              "      <td>Bar</td>\n",
              "      <td>Bar, Brunch restaurant, Cocktail bar, Event ve...</td>\n",
              "      <td>11 AM-2 AM</td>\n",
              "      <td>NaN</td>\n",
              "      <td>Open All Days</td>\n",
              "      <td>30 Water St, New York, NY 10004</td>\n",
              "      <td>irish coffee, scotch egg, irish whiskey, sawdu...</td>\n",
              "      <td>https://www.google.com/maps/place/The+Dead+Rab...</td>\n",
              "      <td>bars in manhattan</td>\n",
              "    </tr>\n",
              "  </tbody>\n",
              "</table>\n",
              "<p>5 rows × 42 columns</p>\n",
              "</div>"
            ],
            "text/plain": [
              "                      place_id       place_name  \\\n",
              "0  ChIJIRiJaRRawokR2KyQ984qa-o  The Dead Rabbit   \n",
              "1  ChIJIRiJaRRawokR2KyQ984qa-o  The Dead Rabbit   \n",
              "2  ChIJIRiJaRRawokR2KyQ984qa-o  The Dead Rabbit   \n",
              "3  ChIJIRiJaRRawokR2KyQ984qa-o  The Dead Rabbit   \n",
              "4  ChIJIRiJaRRawokR2KyQ984qa-o  The Dead Rabbit   \n",
              "\n",
              "                              review_id  \\\n",
              "0  ChdDSUhNMG9nS0VJQ0FnTURvdzkyQ3dBRRAB   \n",
              "1  ChdDSUhNMG9nS0VJQ0FnTURvcGVuQTVRRRAB   \n",
              "2   ChZDSUhNMG9nS0VJQ0FnTURva2FHbUVBEAE   \n",
              "3   ChZDSUhNMG9nS0VJQ0FnTURvNGR5LU5REAE   \n",
              "4  ChdDSUhNMG9nS0VJQ0FnTURvN296eHRnRRAB   \n",
              "\n",
              "                                         review_link              name_x  \\\n",
              "0  https://www.google.com/maps/reviews/data=!4m8!...  Itchy Feet Foodies   \n",
              "1  https://www.google.com/maps/reviews/data=!4m8!...       David Bentley   \n",
              "2  https://www.google.com/maps/reviews/data=!4m8!...        mike \"id\" mm   \n",
              "3  https://www.google.com/maps/reviews/data=!4m8!...          Jake Frith   \n",
              "4  https://www.google.com/maps/reviews/data=!4m8!...          handofwhat   \n",
              "\n",
              "             reviewer_id                                   reviewer_profile  \\\n",
              "0  115364016342485480165  https://www.google.com/maps/contrib/1153640163...   \n",
              "1  101957826250017754225  https://www.google.com/maps/contrib/1019578262...   \n",
              "2  111715638420955619035  https://www.google.com/maps/contrib/1117156384...   \n",
              "3  114589423846334117507  https://www.google.com/maps/contrib/1145894238...   \n",
              "4  102119327733590225752  https://www.google.com/maps/contrib/1021193277...   \n",
              "\n",
              "   rating_x                                        review_text published_at  \\\n",
              "0         5  Nice bar with great smash burgers and a nice p...  2 hours ago   \n",
              "1         5  Finally made there 2 weeks ago. Staff are amaz...    a day ago   \n",
              "2         5  Amazing Bar to travel in the mind into the his...   2 days ago   \n",
              "3         5  Great little bar that serves a great Guinness....   2 days ago   \n",
              "4         2  they have a beautiful illustrated cocktail boo...   3 days ago   \n",
              "\n",
              "   ...                                     featured_image main_category  \\\n",
              "0  ...  https://lh3.ggpht.com/p/AF1QipM4aUcpwv1i-uOUYl...           Bar   \n",
              "1  ...  https://lh3.ggpht.com/p/AF1QipM4aUcpwv1i-uOUYl...           Bar   \n",
              "2  ...  https://lh3.ggpht.com/p/AF1QipM4aUcpwv1i-uOUYl...           Bar   \n",
              "3  ...  https://lh3.ggpht.com/p/AF1QipM4aUcpwv1i-uOUYl...           Bar   \n",
              "4  ...  https://lh3.ggpht.com/p/AF1QipM4aUcpwv1i-uOUYl...           Bar   \n",
              "\n",
              "                                          categories workday_timing  \\\n",
              "0  Bar, Brunch restaurant, Cocktail bar, Event ve...     11 AM-2 AM   \n",
              "1  Bar, Brunch restaurant, Cocktail bar, Event ve...     11 AM-2 AM   \n",
              "2  Bar, Brunch restaurant, Cocktail bar, Event ve...     11 AM-2 AM   \n",
              "3  Bar, Brunch restaurant, Cocktail bar, Event ve...     11 AM-2 AM   \n",
              "4  Bar, Brunch restaurant, Cocktail bar, Event ve...     11 AM-2 AM   \n",
              "\n",
              "   is_temporarily_closed      closed_on                          address  \\\n",
              "0                    NaN  Open All Days  30 Water St, New York, NY 10004   \n",
              "1                    NaN  Open All Days  30 Water St, New York, NY 10004   \n",
              "2                    NaN  Open All Days  30 Water St, New York, NY 10004   \n",
              "3                    NaN  Open All Days  30 Water St, New York, NY 10004   \n",
              "4                    NaN  Open All Days  30 Water St, New York, NY 10004   \n",
              "\n",
              "                                     review_keywords  \\\n",
              "0  irish coffee, scotch egg, irish whiskey, sawdu...   \n",
              "1  irish coffee, scotch egg, irish whiskey, sawdu...   \n",
              "2  irish coffee, scotch egg, irish whiskey, sawdu...   \n",
              "3  irish coffee, scotch egg, irish whiskey, sawdu...   \n",
              "4  irish coffee, scotch egg, irish whiskey, sawdu...   \n",
              "\n",
              "                                                link              query  \n",
              "0  https://www.google.com/maps/place/The+Dead+Rab...  bars in manhattan  \n",
              "1  https://www.google.com/maps/place/The+Dead+Rab...  bars in manhattan  \n",
              "2  https://www.google.com/maps/place/The+Dead+Rab...  bars in manhattan  \n",
              "3  https://www.google.com/maps/place/The+Dead+Rab...  bars in manhattan  \n",
              "4  https://www.google.com/maps/place/The+Dead+Rab...  bars in manhattan  \n",
              "\n",
              "[5 rows x 42 columns]"
            ]
          },
          "execution_count": 1,
          "metadata": {},
          "output_type": "execute_result"
        }
      ],
      "source": [
        "# Basic Import Libraries\n",
        "import pandas as pd\n",
        "import numpy as np\n",
        "import re\n",
        "\n",
        "# Load the dataset\n",
        "df = pd.read_csv('final_task7_dataset.csv')\n",
        "\n",
        "# Basic cleaning - Drop any rows where 'review_text' is missing or just empty spaces\n",
        "df = df.dropna(subset=['review_text'])\n",
        "df = df[df['review_text'].str.strip() != '']\n",
        "\n",
        "# Also drop rows where 'rating_x' is missing\n",
        "df = df.dropna(subset=['rating_x'])\n",
        "\n",
        "# Reset the index\n",
        "df = df.reset_index(drop=True)\n",
        "\n",
        "print(f\"Dataset shape after cleaning: {df.shape}\")\n",
        "df.head()\n"
      ]
    },
    {
      "cell_type": "markdown",
      "metadata": {},
      "source": [
        "## Text Preproccesing"
      ]
    },
    {
      "cell_type": "code",
      "execution_count": 2,
      "metadata": {
        "id": "IT1pCM5i2Ssf"
      },
      "outputs": [
        {
          "name": "stdout",
          "output_type": "stream",
          "text": [
            "Collecting en-core-web-sm==3.8.0\n",
            "  Downloading https://github.com/explosion/spacy-models/releases/download/en_core_web_sm-3.8.0/en_core_web_sm-3.8.0-py3-none-any.whl (12.8 MB)\n",
            "\u001b[2K     \u001b[90m━━━━━━━━━━━━━━━━━━━━━━━━━━━━━━━━━━━━━━━━\u001b[0m \u001b[32m12.8/12.8 MB\u001b[0m \u001b[31m1.7 MB/s\u001b[0m eta \u001b[36m0:00:00\u001b[0m00:01\u001b[0m00:01\u001b[0mm\n",
            "\u001b[?25h\u001b[38;5;2m✔ Download and installation successful\u001b[0m\n",
            "You can now load the package via spacy.load('en_core_web_sm')\n",
            "\u001b[38;5;3m⚠ Restart to reload dependencies\u001b[0m\n",
            "If you are in a Jupyter or Colab notebook, you may need to restart Python in\n",
            "order to load all the package's dependencies. You can do this by selecting the\n",
            "'Restart kernel' or 'Restart runtime' option.\n"
          ]
        },
        {
          "name": "stderr",
          "output_type": "stream",
          "text": [
            "[nltk_data] Downloading package stopwords to\n",
            "[nltk_data]     /Users/isabellashaya/nltk_data...\n",
            "[nltk_data]   Package stopwords is already up-to-date!\n"
          ]
        },
        {
          "name": "stdout",
          "output_type": "stream",
          "text": [
            "Shape after processing: (2599, 43)\n"
          ]
        },
        {
          "data": {
            "text/html": [
              "<div>\n",
              "<style scoped>\n",
              "    .dataframe tbody tr th:only-of-type {\n",
              "        vertical-align: middle;\n",
              "    }\n",
              "\n",
              "    .dataframe tbody tr th {\n",
              "        vertical-align: top;\n",
              "    }\n",
              "\n",
              "    .dataframe thead th {\n",
              "        text-align: right;\n",
              "    }\n",
              "</style>\n",
              "<table border=\"1\" class=\"dataframe\">\n",
              "  <thead>\n",
              "    <tr style=\"text-align: right;\">\n",
              "      <th></th>\n",
              "      <th>review_text</th>\n",
              "      <th>processed_text</th>\n",
              "    </tr>\n",
              "  </thead>\n",
              "  <tbody>\n",
              "    <tr>\n",
              "      <th>0</th>\n",
              "      <td>Nice bar with great smash burgers and a nice p...</td>\n",
              "      <td>nice bar great smash burger nice pint guinness...</td>\n",
              "    </tr>\n",
              "    <tr>\n",
              "      <th>1</th>\n",
              "      <td>Finally made there 2 weeks ago. Staff are amaz...</td>\n",
              "      <td>finally week ago staff amazing especially hann...</td>\n",
              "    </tr>\n",
              "    <tr>\n",
              "      <th>2</th>\n",
              "      <td>Amazing Bar to travel in the mind into the his...</td>\n",
              "      <td>amazing bar travel mind history beginning thin...</td>\n",
              "    </tr>\n",
              "    <tr>\n",
              "      <th>3</th>\n",
              "      <td>Great little bar that serves a great Guinness....</td>\n",
              "      <td>great little bar serve great guinness service ...</td>\n",
              "    </tr>\n",
              "    <tr>\n",
              "      <th>4</th>\n",
              "      <td>they have a beautiful illustrated cocktail boo...</td>\n",
              "      <td>beautiful illustrate cocktail book exist swind...</td>\n",
              "    </tr>\n",
              "  </tbody>\n",
              "</table>\n",
              "</div>"
            ],
            "text/plain": [
              "                                         review_text  \\\n",
              "0  Nice bar with great smash burgers and a nice p...   \n",
              "1  Finally made there 2 weeks ago. Staff are amaz...   \n",
              "2  Amazing Bar to travel in the mind into the his...   \n",
              "3  Great little bar that serves a great Guinness....   \n",
              "4  they have a beautiful illustrated cocktail boo...   \n",
              "\n",
              "                                      processed_text  \n",
              "0  nice bar great smash burger nice pint guinness...  \n",
              "1  finally week ago staff amazing especially hann...  \n",
              "2  amazing bar travel mind history beginning thin...  \n",
              "3  great little bar serve great guinness service ...  \n",
              "4  beautiful illustrate cocktail book exist swind...  "
            ]
          },
          "execution_count": 2,
          "metadata": {},
          "output_type": "execute_result"
        }
      ],
      "source": [
        "# NLP libraries\n",
        "import spacy\n",
        "import nltk\n",
        "from nltk.corpus import stopwords\n",
        "\n",
        "# Downloads\n",
        "spacy.cli.download('en_core_web_sm')\n",
        "nltk.download('stopwords')\n",
        "\n",
        "# Load resources\n",
        "nlp = spacy.load('en_core_web_sm')\n",
        "stop_words = set(stopwords.words('english'))\n",
        "\n",
        "# Import libraries from gensim\n",
        "import gensim\n",
        "from gensim import corpora\n",
        "from gensim.corpora import Dictionary\n",
        "from gensim.models import LdaModel\n",
        "\n",
        "# Preprocessing function\n",
        "def preprocess_text(text):\n",
        "    # Lowercase\n",
        "    text = text.lower()\n",
        "    # Remove URLs\n",
        "    text = re.sub(r\"http\\S+|www\\S+|https\\S+\", '', text, flags=re.MULTILINE)\n",
        "    # Remove punctuation and special characters\n",
        "    text = re.sub(r'[^A-Za-z\\s]', '', text)\n",
        "    # Remove extra spaces\n",
        "    text = re.sub(r'\\s+', ' ', text).strip()\n",
        "    # Tokenize and remove stopwords\n",
        "    doc = nlp(text)\n",
        "    tokens = [token.lemma_ for token in doc if token.text not in stop_words and not token.is_stop and not token.is_punct]\n",
        "    # Rejoin tokens into clean string\n",
        "    cleaned_text = ' '.join(tokens)\n",
        "    return cleaned_text\n",
        "\n",
        "df['processed_text'] = df['review_text'].apply(preprocess_text)\n",
        "\n",
        "\n",
        "print(f\"Shape after processing: {df.shape}\")\n",
        "df[['review_text', 'processed_text']].head()"
      ]
    },
    {
      "cell_type": "markdown",
      "metadata": {
        "id": "yqnZX-qs3S3C"
      },
      "source": [
        "## TF-IDF vectorization\n"
      ]
    },
    {
      "cell_type": "code",
      "execution_count": 3,
      "metadata": {
        "id": "UfXhurKl3936"
      },
      "outputs": [
        {
          "name": "stdout",
          "output_type": "stream",
          "text": [
            "TF-IDF feature matrix shape: (97, 5000)\n",
            "Cosine similarity matrix shape: (97, 97)\n",
            "Top recommended similar bars:\n",
            "54                                           Pebble Bar\n",
            "73                                  The Four Faced Liar\n",
            "42                                        King Cole Bar\n",
            "1     ART Midtown - Rooftop Bars Midtown, NYC (Arlo ...\n",
            "83                              The Tailor Public House\n",
            "Name: place_name, dtype: object\n"
          ]
        }
      ],
      "source": [
        "from sklearn.feature_extraction.text import TfidfVectorizer\n",
        "from sklearn.metrics.pairwise import cosine_similarity\n",
        "\n",
        "# TF-IDF Vectorization on grouped data\n",
        "grouped = df.groupby('place_name')['processed_text'].apply(lambda x: ' '.join(x)).reset_index()\n",
        "tfidf = TfidfVectorizer(\n",
        "    max_features=5000,\n",
        "    ngram_range=(1, 2)\n",
        ")\n",
        "tfidf_matrix = tfidf.fit_transform(grouped['processed_text'])\n",
        "print(f\"TF-IDF feature matrix shape: {tfidf_matrix.shape}\")\n",
        "\n",
        "# Cosine Similarity\n",
        "cosine_sim = cosine_similarity(tfidf_matrix, tfidf_matrix)\n",
        "print(f\"Cosine similarity matrix shape: {cosine_sim.shape}\")\n",
        "\n",
        "# Reverse index\n",
        "indices = pd.Series(grouped.index, index=grouped['place_name']).drop_duplicates()\n",
        "\n",
        "# Defined Reccomender Function\n",
        "def recommend_places(place_name, cosine_sim=cosine_sim, df=grouped):\n",
        "    if place_name not in indices:\n",
        "        return f\"Place '{place_name}' not found in the dataset.\"\n",
        "    \n",
        "    idx = indices[place_name]\n",
        "    sim_scores = list(enumerate(cosine_sim[idx]))\n",
        "\n",
        "    sim_scores = sorted(sim_scores, key=lambda x: x[1], reverse=True)\n",
        "\n",
        "    sim_scores = sim_scores[1:min(6, len(sim_scores))]  # added min(6, len(sim_scores)) to not go past available data\n",
        "\n",
        "    place_indices = [i[0] for i in sim_scores]\n",
        "    return df['place_name'].iloc[place_indices]\n",
        "\n",
        "# Testing Recommender\n",
        "recommended_bars = recommend_places('The Dead Rabbit')\n",
        "print(\"Top recommended similar bars:\")\n",
        "print(recommended_bars)\n"
      ]
    },
    {
      "cell_type": "markdown",
      "metadata": {
        "id": "uDoKx51l4bAv"
      },
      "source": [
        "## Word2Vec vectorization"
      ]
    },
    {
      "cell_type": "code",
      "execution_count": null,
      "metadata": {
        "id": "zzkyOKmq4b04"
      },
      "outputs": [
        {
          "name": "stdout",
          "output_type": "stream",
          "text": [
            "Shape of document vectors: (2599, 100)\n"
          ]
        }
      ],
      "source": [
        "from gensim.models import Word2Vec\n",
        "\n",
        "# Tokenize processed text into words\n",
        "df['tokens'] = df['processed_text'].apply(lambda x: x.split())\n",
        "\n",
        "# Train Word2Vec model\n",
        "w2v_model = Word2Vec(\n",
        "    sentences=df['tokens'],\n",
        "    vector_size=100, \n",
        "    window=5,        \n",
        "    min_count=2,    \n",
        "    workers=4,       \n",
        "    sg=1             \n",
        ")\n",
        "\n",
        "# Function to average word vectors for a document\n",
        "def document_vector(doc):\n",
        "    # Remove out-of-vocabulary words\n",
        "    doc = [word for word in doc if word in w2v_model.wv]\n",
        "    if len(doc) == 0: \n",
        "        return np.zeros(100) # Return zero vector if no words are in the model\n",
        "    return np.mean(w2v_model.wv[doc], axis=0)\n",
        "\n",
        "# Document vectors\n",
        "doc_vectors = np.array([document_vector(tokens) for tokens in df['tokens']])\n",
        "\n",
        "print(f\"Shape of document vectors: {doc_vectors.shape}\")\n"
      ]
    },
    {
      "cell_type": "code",
      "execution_count": null,
      "metadata": {
        "id": "T3TRvP-X_0wa"
      },
      "outputs": [
        {
          "name": "stdout",
          "output_type": "stream",
          "text": [
            "Word2Vec document vectors saved to 'word2vec_reviews.csv'\n",
            "Final shape: (2599, 144)\n"
          ]
        }
      ],
      "source": [
        "# Shape: (2599, 100), where each row is a document vector\n",
        "\n",
        "# Convert to DataFrame\n",
        "word2vec_df = pd.DataFrame(doc_vectors)\n",
        "word2vec_df.columns = [f\"w2v_{i}\" for i in range(word2vec_df.shape[1])]\n",
        "\n",
        "# Reset index on main df to match word2vec_df\n",
        "df_reset = df.reset_index(drop=True)\n",
        "# assert len(df_reset) == len(word2vec_df), \"Mismatch in row count!\" # used to check alignment\n",
        "\n",
        "# Concatenate Word2Vec and original dataframes\n",
        "df_word2vec = pd.concat([df_reset, word2vec_df], axis=1)\n",
        "\n",
        "#  Save result to a CSV file\n",
        "df_word2vec.to_csv(\"word2vec_reviews.csv\", index=False)\n",
        "\n",
        "print(\"Word2Vec document vectors saved to 'word2vec_reviews.csv'\")\n",
        "print(f\"Final shape: {df_word2vec.shape}\")\n"
      ]
    },
    {
      "cell_type": "markdown",
      "metadata": {
        "id": "FHS6J1oOEwWe"
      },
      "source": [
        "## LDA"
      ]
    },
    {
      "cell_type": "code",
      "execution_count": null,
      "metadata": {
        "id": "85NNtUqREyu8"
      },
      "outputs": [
        {
          "name": "stdout",
          "output_type": "stream",
          "text": [
            "Topic #0:\n",
            "0.029*\"bar\" + 0.021*\"bartender\" + 0.019*\"not\" + 0.018*\"rude\" + 0.013*\"friend\" + 0.013*\"experience\" + 0.011*\"leave\" + 0.011*\"time\" + 0.010*\"feel\" + 0.010*\"man\"\n",
            "\n",
            "Topic #1:\n",
            "0.054*\"wait\" + 0.042*\"come\" + 0.030*\"service\" + 0.030*\"minute\" + 0.029*\"seat\" + 0.027*\"people\" + 0.024*\"hour\" + 0.019*\"place\" + 0.018*\"tell\" + 0.017*\"not\"\n",
            "\n",
            "Topic #2:\n",
            "0.101*\"great\" + 0.057*\"drink\" + 0.027*\"spot\" + 0.027*\"cocktail\" + 0.024*\"service\" + 0.023*\"vibe\" + 0.020*\"bar\" + 0.018*\"food\" + 0.016*\"place\" + 0.015*\"delicious\"\n",
            "\n",
            "Topic #3:\n",
            "0.052*\"bar\" + 0.036*\"good\" + 0.028*\"great\" + 0.027*\"drink\" + 0.026*\"friendly\" + 0.025*\"staff\" + 0.023*\"atmosphere\" + 0.018*\"nyc\" + 0.018*\"vibe\" + 0.017*\"place\"\n",
            "\n",
            "Topic #4:\n",
            "0.036*\"bar\" + 0.020*\"not\" + 0.017*\"cocktail\" + 0.014*\"good\" + 0.014*\"drink\" + 0.011*\"time\" + 0.010*\"reservation\" + 0.010*\"light\" + 0.010*\"want\" + 0.009*\"seat\"\n",
            "\n",
            "Topic #5:\n",
            "0.082*\"good\" + 0.033*\"food\" + 0.032*\"drink\" + 0.031*\"cocktail\" + 0.028*\"nice\" + 0.022*\"bar\" + 0.020*\"place\" + 0.019*\"atmosphere\" + 0.019*\"vibe\" + 0.014*\"service\"\n",
            "\n",
            "Topic #6:\n",
            "0.060*\"de\" + 0.045*\"la\" + 0.033*\"un\" + 0.028*\"le\" + 0.024*\"que\" + 0.022*\"game\" + 0.022*\"du\" + 0.019*\"nous\" + 0.019*\"et\" + 0.018*\"cheese\"\n",
            "\n",
            "Topic #7:\n",
            "0.038*\"recommend\" + 0.037*\"bar\" + 0.033*\"cocktail\" + 0.025*\"experience\" + 0.025*\"highly\" + 0.017*\"amazing\" + 0.016*\"truly\" + 0.015*\"ambiance\" + 0.013*\"creative\" + 0.012*\"offer\"\n",
            "\n",
            "Topic #8:\n",
            "0.039*\"not\" + 0.036*\"drink\" + 0.021*\"like\" + 0.019*\"bar\" + 0.015*\"order\" + 0.014*\"ask\" + 0.014*\"place\" + 0.013*\"experience\" + 0.011*\"time\" + 0.010*\"bartender\"\n",
            "\n",
            "Topic #9:\n",
            "0.060*\"great\" + 0.040*\"place\" + 0.031*\"night\" + 0.028*\"good\" + 0.024*\"drink\" + 0.024*\"time\" + 0.021*\"spot\" + 0.019*\"bar\" + 0.017*\"service\" + 0.017*\"friend\"\n",
            "\n",
            "LDA topics assigned and saved to 'lda_labeled_reviews.csv'\n"
          ]
        }
      ],
      "source": [
        "# Create dictionary and corpus for LDA\n",
        "dictionary = corpora.Dictionary(df['tokens'])\n",
        "dictionary.filter_extremes(no_below=5, no_above=0.5)  # Optional: filter rare/common terms\n",
        "\n",
        "corpus = [dictionary.doc2bow(text) for text in df['tokens']]\n",
        "\n",
        "# Train LDA model\n",
        "NUM_TOPICS = 10 \n",
        "lda_model = LdaModel(\n",
        "    corpus=corpus,\n",
        "    id2word=dictionary,\n",
        "    num_topics=NUM_TOPICS,\n",
        "    passes=10,\n",
        "    random_state=42,\n",
        "    per_word_topics=True\n",
        ")\n",
        "\n",
        "# Print top words for each topic\n",
        "for i, topic in lda_model.show_topics(num_topics=NUM_TOPICS, formatted=True):\n",
        "    print(f\"Topic #{i}:\")\n",
        "    print(topic)\n",
        "    print()\n",
        "\n",
        "# Assign dominant topic to each document\n",
        "def get_dominant_topic(lda_model, bow):\n",
        "    topics = lda_model.get_document_topics(bow)\n",
        "    if topics:\n",
        "        return sorted(topics, key=lambda x: x[1], reverse=True)[0][0]\n",
        "    else:\n",
        "        return -1\n",
        "\n",
        "df['lda_dominant_topic'] = [get_dominant_topic(lda_model, doc) for doc in corpus]\n",
        "\n",
        "\n",
        "df.to_csv(\"lda_labeled_reviews.csv\", index=False)\n",
        "print(\"LDA topics assigned and saved to 'lda_labeled_reviews.csv'\")"
      ]
    },
    {
      "cell_type": "code",
      "execution_count": null,
      "metadata": {
        "id": "uMSPM0EuFVhm"
      },
      "outputs": [
        {
          "data": {
            "image/png": "[encoded data removed]",
            "text/plain": [
              "<Figure size 1000x600 with 1 Axes>"
            ]
          },
          "metadata": {},
          "output_type": "display_data"
        }
      ],
      "source": [
        "# Libraries\n",
        "import matplotlib.pyplot as plt\n",
        "import seaborn as sns\n",
        "\n",
        "# Count topic frequencies\n",
        "topic_counts = df['lda_dominant_topic'].value_counts().sort_index()\n",
        "\n",
        "# Plot\n",
        "plt.figure(figsize=(10, 6))\n",
        "sns.barplot(x=topic_counts.index, y=topic_counts.values, palette='muted')\n",
        "plt.xlabel('LDA Topic #')\n",
        "plt.ylabel('Number of Reviews')\n",
        "plt.title('Distribution of Dominant LDA Topics')\n",
        "plt.xticks(rotation=45)\n",
        "plt.tight_layout()\n",
        "plt.show()"
      ]
    },
    {
      "cell_type": "markdown",
      "metadata": {
        "id": "gx7u6l_oAUg9"
      },
      "source": [
        "## Reccomendation System"
      ]
    },
    {
      "cell_type": "code",
      "execution_count": null,
      "metadata": {
        "id": "JkGvlQqnCLbV"
      },
      "outputs": [
        {
          "name": "stdout",
          "output_type": "stream",
          "text": [
            "Requirement already satisfied: scikit-learn in /Users/isabellashaya/anaconda3/lib/python3.11/site-packages (1.3.0)\n",
            "Requirement already satisfied: numpy>=1.17.3 in /Users/isabellashaya/anaconda3/lib/python3.11/site-packages (from scikit-learn) (1.26.4)\n",
            "Requirement already satisfied: scipy>=1.5.0 in /Users/isabellashaya/anaconda3/lib/python3.11/site-packages (from scikit-learn) (1.11.1)\n",
            "Requirement already satisfied: joblib>=1.1.1 in /Users/isabellashaya/anaconda3/lib/python3.11/site-packages (from scikit-learn) (1.2.0)\n",
            "Requirement already satisfied: threadpoolctl>=2.0.0 in /Users/isabellashaya/anaconda3/lib/python3.11/site-packages (from scikit-learn) (2.2.0)\n",
            "Collecting scikit-surprise\n",
            "  Downloading scikit_surprise-1.1.4.tar.gz (154 kB)\n",
            "\u001b[2K     \u001b[90m━━━━━━━━━━━━━━━━━━━━━━━━━━━━━━━━━━━━━━━\u001b[0m \u001b[32m154.4/154.4 kB\u001b[0m \u001b[31m2.8 MB/s\u001b[0m eta \u001b[36m0:00:00\u001b[0ma \u001b[36m0:00:01\u001b[0m\n",
            "\u001b[?25h  Installing build dependencies ... \u001b[?25ldone\n",
            "\u001b[?25h  Getting requirements to build wheel ... \u001b[?25ldone\n",
            "\u001b[?25h  Preparing metadata (pyproject.toml) ... \u001b[?25ldone\n",
            "\u001b[?25hRequirement already satisfied: joblib>=1.2.0 in /Users/isabellashaya/anaconda3/lib/python3.11/site-packages (from scikit-surprise) (1.2.0)\n",
            "Requirement already satisfied: numpy>=1.19.5 in /Users/isabellashaya/anaconda3/lib/python3.11/site-packages (from scikit-surprise) (1.26.4)\n",
            "Requirement already satisfied: scipy>=1.6.0 in /Users/isabellashaya/anaconda3/lib/python3.11/site-packages (from scikit-surprise) (1.11.1)\n",
            "Building wheels for collected packages: scikit-surprise\n",
            "  Building wheel for scikit-surprise (pyproject.toml) ... \u001b[?25ldone\n",
            "\u001b[?25h  Created wheel for scikit-surprise: filename=scikit_surprise-1.1.4-cp311-cp311-macosx_11_0_arm64.whl size=485271 sha256=a715db17bfda887f6653c4552ed5cf397092889c6d32fa6f4e066a1da36ccc40\n",
            "  Stored in directory: /Users/isabellashaya/Library/Caches/pip/wheels/2a/8f/6e/7e2899163e2d85d8266daab4aa1cdabec7a6c56f83c015b5af\n",
            "Successfully built scikit-surprise\n",
            "Installing collected packages: scikit-surprise\n",
            "Successfully installed scikit-surprise-1.1.4\n"
          ]
        }
      ],
      "source": [
        "# 1. Setup + data filtering\n",
        "from sklearn.feature_extraction.text import TfidfVectorizer\n",
        "from sklearn.metrics.pairwise import cosine_similarity\n",
        "\n",
        "\n",
        "df_filtered = df[['reviewer_id', 'place_id', 'rating_x']].dropna()\n"
      ]
    },
    {
      "cell_type": "code",
      "execution_count": null,
      "metadata": {
        "id": "7xsuvHmkDmNB"
      },
      "outputs": [
        {
          "name": "stdout",
          "output_type": "stream",
          "text": [
            "✅ Content-Based Recommendations:\n",
            "54                                           Pebble Bar\n",
            "73                                  The Four Faced Liar\n",
            "42                                        King Cole Bar\n",
            "1     ART Midtown - Rooftop Bars Midtown, NYC (Arlo ...\n",
            "83                              The Tailor Public House\n",
            "Name: place_name, dtype: object\n"
          ]
        }
      ],
      "source": [
        "# 2. Content-Based TF-IDF Recommender (already built)\n",
        "\n",
        "# Group reviews by bar\n",
        "grouped_reviews = df.groupby('place_name')['processed_text'].apply(lambda x: ' '.join(x)).reset_index()\n",
        "\n",
        "# TF-IDF\n",
        "tfidf = TfidfVectorizer(max_features=5000, ngram_range=(1, 2))\n",
        "tfidf_matrix = tfidf.fit_transform(grouped_reviews['processed_text'])\n",
        "\n",
        "# Cosine similarity\n",
        "cosine_sim = cosine_similarity(tfidf_matrix, tfidf_matrix)\n",
        "place_indices = pd.Series(grouped_reviews.index, index=grouped_reviews['place_name']).drop_duplicates()\n",
        "\n",
        "# Recommender\n",
        "def recommend_places(place_name, cosine_sim=cosine_sim, df=grouped_reviews):\n",
        "    idx = place_indices[place_name]\n",
        "    sim_scores = list(enumerate(cosine_sim[idx]))\n",
        "    sim_scores = sorted(sim_scores, key=lambda x: x[1], reverse=True)[1:6]\n",
        "    place_indices_top = [i[0] for i in sim_scores]\n",
        "    return df['place_name'].iloc[place_indices_top]\n",
        "\n",
        "# Example usage\n",
        "print(\"Content-Based Recommendations:\")\n",
        "print(recommend_places('The Dead Rabbit'))\n"
      ]
    },
    {
      "cell_type": "code",
      "execution_count": null,
      "metadata": {
        "id": "HfqmNIPUDo-7"
      },
      "outputs": [
        {
          "name": "stdout",
          "output_type": "stream",
          "text": [
            "\n",
            "✅ Collaborative Filtering Evaluation:\n",
            "RMSE: 1.1537\n",
            "RMSE: 1.153662318277715\n",
            "MAE:  0.8512\n",
            "MAE : 0.8512284619487371\n"
          ]
        }
      ],
      "source": [
        "# 3. Collaborative Filtering with Surprise\n",
        "from surprise import Dataset, Reader, SVD\n",
        "from surprise.model_selection import train_test_split\n",
        "from surprise import accuracy\n",
        "\n",
        "# Load into Surprise\n",
        "reader = Reader(rating_scale=(1, 5))\n",
        "data = Dataset.load_from_df(df_filtered[['reviewer_id', 'place_id', 'rating_x']], reader)\n",
        "\n",
        "# Train/test split\n",
        "trainset, testset = train_test_split(data, test_size=0.2, random_state=42)\n",
        "\n",
        "# Train SVD model\n",
        "model = SVD()\n",
        "model.fit(trainset)\n",
        "\n",
        "# Evaluate\n",
        "predictions = model.test(testset)\n",
        "print(\"\\n Collaborative Filtering Evaluation:\")\n",
        "print(\"RMSE:\", accuracy.rmse(predictions))\n",
        "print(\"MAE :\", accuracy.mae(predictions))"
      ]
    },
    {
      "cell_type": "code",
      "execution_count": null,
      "metadata": {
        "id": "SPHZm9xXDpol"
      },
      "outputs": [
        {
          "name": "stdout",
          "output_type": "stream",
          "text": [
            "\n",
            "🎯 Top-N Recommendations for User: 115364016342485480165\n",
            "⭐ Jimmy's Corner — Predicted rating: 5\n",
            "⭐ The Naked Pig — Predicted rating: 4.95\n",
            "⭐ The Dickens — Predicted rating: 4.88\n",
            "⭐ Madam Mikette's — Predicted rating: 4.87\n",
            "⭐ Twist Bar — Predicted rating: 4.8\n"
          ]
        }
      ],
      "source": [
        "# 4. Top-N Recommender for Each User\n",
        "def get_top_n_recommendations(user_id, model, df_all, n=5):\n",
        "    all_bars = df_all['place_id'].unique()\n",
        "    rated_bars = df_all[df_all['reviewer_id'] == user_id]['place_id'].unique()\n",
        "    bars_to_predict = [bar for bar in all_bars if bar not in rated_bars]\n",
        "    predictions = [model.predict(user_id, bar) for bar in bars_to_predict]\n",
        "    top_n_preds = sorted(predictions, key=lambda x: x.est, reverse=True)[:n]\n",
        "    place_id_to_name = dict(zip(df_all['place_id'], df_all['place_name']))\n",
        "    results = [(place_id_to_name.get(pred.iid, pred.iid), round(pred.est, 2)) for pred in top_n_preds]\n",
        "    return results\n",
        "\n",
        "# Sample user\n",
        "sample_user = df_filtered['reviewer_id'].iloc[0]\n",
        "print(f\"\\n Top-N Recommendations for User: {sample_user}\")\n",
        "for place, score in get_top_n_recommendations(sample_user, model, df):\n",
        "    print(f\"⭐ {place} — Predicted rating: {score}\")"
      ]
    },
    {
      "cell_type": "markdown",
      "metadata": {
        "id": "j0lc4H1EGbUw"
      },
      "source": [
        "### TEST"
      ]
    },
    {
      "cell_type": "code",
      "execution_count": null,
      "metadata": {
        "id": "uoVKKd6LGh2L"
      },
      "outputs": [
        {
          "name": "stdout",
          "output_type": "stream",
          "text": [
            "🎯 Predicted rating for user '115364016342485480165' on bar 'The Dickens': 4.88\n",
            "\n",
            "🔝 Top 5 recommended bars for user '115364016342485480165':\n",
            "⭐ Jimmy's Corner — Predicted rating: 5\n",
            "⭐ The Naked Pig — Predicted rating: 4.95\n",
            "⭐ The Dickens — Predicted rating: 4.88\n",
            "⭐ Madam Mikette's — Predicted rating: 4.87\n",
            "⭐ Twist Bar — Predicted rating: 4.8\n"
          ]
        }
      ],
      "source": [
        "# Step 1: Set real user + bar IDs\n",
        "user_id = '115364016342485480165'\n",
        "bar_id = 'ChIJXz1QXE5ZwokRLwJIVmQhyEc'\n",
        "\n",
        "# Step 2: Create lookup dictionary for place_id → place_name\n",
        "place_id_to_name = dict(zip(df['place_id'], df['place_name']))\n",
        "\n",
        "# Step 3: Predict single rating\n",
        "pred = model.predict(user_id, bar_id)\n",
        "bar_name = place_id_to_name.get(bar_id, \"Unknown Bar\")\n",
        "print(f\"Predicted rating for user '{user_id}' on bar '{bar_name}': {round(pred.est, 2)}\")\n",
        "\n",
        "# Step 4: Top-N recommendation function (if not already defined)\n",
        "def get_top_n_recommendations(user_id, model, df_all, n=5):\n",
        "    all_bars = df_all['place_id'].unique()\n",
        "    rated_bars = df_all[df_all['reviewer_id'] == user_id]['place_id'].unique()\n",
        "    bars_to_predict = [bar for bar in all_bars if bar not in rated_bars]\n",
        "    predictions = [model.predict(user_id, bar) for bar in bars_to_predict]\n",
        "    top_n_preds = sorted(predictions, key=lambda x: x.est, reverse=True)[:n]\n",
        "    place_id_to_name = dict(zip(df_all['place_id'], df_all['place_name']))\n",
        "    return [(place_id_to_name.get(pred.iid, pred.iid), round(pred.est, 2)) for pred in top_n_preds]\n",
        "\n",
        "# Step 5: Get and print Top-N recommendations for the same user\n",
        "top_recs = get_top_n_recommendations(user_id, model, df, n=5)\n",
        "print(f\"\\nTop 5 recommended bars for user '{user_id}':\")\n",
        "for bar_name, score in top_recs:\n",
        "    print(f\"⭐ {bar_name} — Predicted rating: {score}\")"
      ]
    }
  ],
  "metadata": {
    "colab": {
      "provenance": []
    },
    "kernelspec": {
      "display_name": "base",
      "language": "python",
      "name": "python3"
    },
    "language_info": {
      "name": "python",
      "version": "3.11.5"
    }
  },
  "nbformat": 4,
  "nbformat_minor": 0
}
